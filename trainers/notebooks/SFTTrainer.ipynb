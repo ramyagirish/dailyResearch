{
 "cells": [
  {
   "cell_type": "markdown",
   "id": "63627f93-8791-424c-94ef-e3d84a1c8ad9",
   "metadata": {},
   "source": [
    "### Objective\n",
    "\n",
    "In this notebook, we will look at `trl` package that stands for **transformer reinforcement learning**. RL is reward based training process and we will be looking at a very straight forward way of fine tu"
   ]
  },
  {
   "cell_type": "code",
   "execution_count": 1,
   "id": "3b066e84-67e4-46b3-ab59-70f231d1359b",
   "metadata": {},
   "outputs": [],
   "source": [
    "import trl"
   ]
  },
  {
   "cell_type": "code",
   "execution_count": 2,
   "id": "00b91eda-dce9-47f5-874c-b72fae07fdbd",
   "metadata": {},
   "outputs": [
    {
     "data": {
      "text/plain": [
       "'0.9.6'"
      ]
     },
     "execution_count": 2,
     "metadata": {},
     "output_type": "execute_result"
    }
   ],
   "source": [
    "trl.__version__"
   ]
  },
  {
   "cell_type": "markdown",
   "id": "56d14b91-47d8-49ed-82e4-2f4a184ed000",
   "metadata": {},
   "source": [
    "#### Dataset\n",
    "\n",
    "We will be using a very small subset of **IMDB** dataset for this experiment."
   ]
  },
  {
   "cell_type": "code",
   "execution_count": 3,
   "id": "e37c12aa-c2cf-4969-b90d-f3442deec3d4",
   "metadata": {},
   "outputs": [],
   "source": [
    "# importing the libraries for accessing dataset\n",
    "from datasets import load_dataset"
   ]
  },
  {
   "cell_type": "code",
   "execution_count": 4,
   "id": "237adafe-9762-49e3-95fe-1f588bf8eade",
   "metadata": {},
   "outputs": [],
   "source": [
    "dataset = load_dataset(\"imdb\", split=\"train\")\n",
    "dataset = dataset.train_test_split(test_size=0.2)['test'].train_test_split(test_size=0.1)"
   ]
  },
  {
   "cell_type": "code",
   "execution_count": 5,
   "id": "75438c9d-5334-4063-8d91-addd5e74f6da",
   "metadata": {},
   "outputs": [
    {
     "data": {
      "text/plain": [
       "{'train': (4500, 2), 'test': (500, 2)}"
      ]
     },
     "execution_count": 5,
     "metadata": {},
     "output_type": "execute_result"
    }
   ],
   "source": [
    "dataset.shape"
   ]
  },
  {
   "cell_type": "markdown",
   "id": "50ef2778-0760-4d0a-aac2-19becda738d5",
   "metadata": {},
   "source": [
    "#### Define Training Arguments"
   ]
  },
  {
   "cell_type": "code",
   "execution_count": 6,
   "id": "c9ad3466-4838-4f19-837b-faf00f8f9219",
   "metadata": {},
   "outputs": [],
   "source": [
    "# these specific batch sizes have been chosen based on a GPU with VRAM of 12 GB\n",
    "# unfortunately use of args like so has been deprecated \n",
    "\n",
    "from transformers import TrainingArguments\n",
    "\n",
    "args = TrainingArguments(\n",
    "    output_dir='/home/ubuntu/dailyResearch/trainers/output',\n",
    "    push_to_hub=False,\n",
    "    report_to=\"none\",\n",
    "    per_device_eval_batch_size=3,\n",
    "    per_device_train_batch_size=4,\n",
    "    eval_strategy='steps',\n",
    "    eval_steps=200,\n",
    "    save_strategy='epoch',\n",
    "    num_train_epochs=1\n",
    ")"
   ]
  },
  {
   "cell_type": "code",
   "execution_count": 7,
   "id": "019004e2-dd3e-4f24-a3b5-a8a4f55f7bf9",
   "metadata": {},
   "outputs": [
    {
     "data": {
      "text/plain": [
       "{'text': 'There was a Bugs Bunny cartoon titled \"Baby Buggy Bunny\" that was EXACTLY this plot. Baby-faced Finster robbed a bank and the money in the carriage rolled away and fell into Bug\\'s rabbit hole. He dressed up as a baby to get into Bugg\\'s hole to retrieve the money. The scene in \"Little Man\" where he\\'s looking in the bathroom mirror shaving with a cigar in his mouth is straight from the cartoon. This was a hilarious 5-minute cartoon; not so much an entire movie. If you are really interested in this, buy the Bugs Bunny DVD. It\\'s was much more original the first time (1954). Plus you\\'ll get a lot more classic Bugs Bunny cartoons to boot!',\n",
       " 'label': 0}"
      ]
     },
     "execution_count": 7,
     "metadata": {},
     "output_type": "execute_result"
    }
   ],
   "source": [
    "# training dataset\n",
    "dataset['train'][0]"
   ]
  },
  {
   "cell_type": "markdown",
   "id": "d4778d1f-b645-468a-a940-e5ee7e660bcf",
   "metadata": {},
   "source": [
    "#### Create Trainer\n",
    "\n",
    "Here we will look at the first type of RL trainer that we call **SFTTrainer**. We have to remember that SFT trainers don't give a lot of support for customized workflows and also they are very stream-lined, although easy to work with they dont offer flexibility."
   ]
  },
  {
   "cell_type": "code",
   "execution_count": 8,
   "id": "adc800d5-c067-4e69-bc1c-404d41cc42b6",
   "metadata": {},
   "outputs": [],
   "source": [
    "# create the trainer instance\n",
    "from transformers import AutoModelForCausalLM, AutoTokenizer\n",
    "from trl import SFTTrainer, SFTConfig\n",
    "\n",
    "model = AutoModelForCausalLM.from_pretrained(\"facebook/opt-350m\")\n",
    "tokenizer = AutoTokenizer.from_pretrained(\"facebook/opt-350m\",  clean_up_tokenization_spaces=True)\n",
    "tokenizer.clean_up_tokenization_spaces = True\n",
    "\n",
    "sft_config = SFTConfig(output_dir=\"/tmp\")"
   ]
  },
  {
   "cell_type": "code",
   "execution_count": 9,
   "id": "4c581aa8-3bdb-429b-a2d7-4623f87bb303",
   "metadata": {},
   "outputs": [],
   "source": [
    "# we don't have to specify a value for report_to -> will cause error if you provide \"none\"\n",
    "sft_config.output_dir=\"/home/ubuntu/dailyResearch/trainers/output\"\n",
    "sft_config.push_to_hub=False\n",
    "sft_config.per_device_train_batch_size=4\n",
    "sft_config.per_device_eval_batch_size=3\n",
    "sft_config.eval_strategy='steps'\n",
    "sft_config.eval_steps=200\n",
    "sft_config.save_strategy='epoch'\n",
    "sft_config.num_train_epochs=1\n",
    "sft_config.dataset_text_field=\"text\"\n",
    "sft_config.max_seq_length=512"
   ]
  },
  {
   "cell_type": "code",
   "execution_count": 10,
   "id": "e5281d0b-cadf-4241-b826-26bba6060421",
   "metadata": {
    "scrolled": true
   },
   "outputs": [
    {
     "data": {
      "application/vnd.jupyter.widget-view+json": {
       "model_id": "fa549ee5693841b4afdc249dbeca3fc1",
       "version_major": 2,
       "version_minor": 0
      },
      "text/plain": [
       "Map:   0%|          | 0/4500 [00:00<?, ? examples/s]"
      ]
     },
     "metadata": {},
     "output_type": "display_data"
    },
    {
     "data": {
      "application/vnd.jupyter.widget-view+json": {
       "model_id": "320ff68ef42f4bf69613d888d7f3908f",
       "version_major": 2,
       "version_minor": 0
      },
      "text/plain": [
       "Map:   0%|          | 0/500 [00:00<?, ? examples/s]"
      ]
     },
     "metadata": {},
     "output_type": "display_data"
    }
   ],
   "source": [
    "trainer = SFTTrainer(\n",
    "    model,\n",
    "    tokenizer=tokenizer,\n",
    "    train_dataset=dataset['train'],\n",
    "    eval_dataset=dataset['test'],\n",
    "    args=sft_config,\n",
    ")"
   ]
  },
  {
   "cell_type": "code",
   "execution_count": 11,
   "id": "85f4c7d6-b73e-4cc0-8253-4fd4807d2e8a",
   "metadata": {},
   "outputs": [
    {
     "data": {
      "text/html": [
       "\n",
       "    <div>\n",
       "      \n",
       "      <progress value='1125' max='1125' style='width:300px; height:20px; vertical-align: middle;'></progress>\n",
       "      [1125/1125 08:29, Epoch 1/1]\n",
       "    </div>\n",
       "    <table border=\"1\" class=\"dataframe\">\n",
       "  <thead>\n",
       " <tr style=\"text-align: left;\">\n",
       "      <th>Step</th>\n",
       "      <th>Training Loss</th>\n",
       "      <th>Validation Loss</th>\n",
       "    </tr>\n",
       "  </thead>\n",
       "  <tbody>\n",
       "    <tr>\n",
       "      <td>200</td>\n",
       "      <td>No log</td>\n",
       "      <td>3.552261</td>\n",
       "    </tr>\n",
       "    <tr>\n",
       "      <td>400</td>\n",
       "      <td>No log</td>\n",
       "      <td>3.534817</td>\n",
       "    </tr>\n",
       "    <tr>\n",
       "      <td>600</td>\n",
       "      <td>3.595800</td>\n",
       "      <td>3.498288</td>\n",
       "    </tr>\n",
       "    <tr>\n",
       "      <td>800</td>\n",
       "      <td>3.595800</td>\n",
       "      <td>3.461796</td>\n",
       "    </tr>\n",
       "    <tr>\n",
       "      <td>1000</td>\n",
       "      <td>3.494500</td>\n",
       "      <td>3.430421</td>\n",
       "    </tr>\n",
       "  </tbody>\n",
       "</table><p>"
      ],
      "text/plain": [
       "<IPython.core.display.HTML object>"
      ]
     },
     "metadata": {},
     "output_type": "display_data"
    },
    {
     "data": {
      "text/plain": [
       "TrainOutput(global_step=1125, training_loss=3.535986843532986, metrics={'train_runtime': 511.0163, 'train_samples_per_second': 8.806, 'train_steps_per_second': 2.201, 'total_flos': 3434917236768768.0, 'train_loss': 3.535986843532986, 'epoch': 1.0})"
      ]
     },
     "execution_count": 11,
     "metadata": {},
     "output_type": "execute_result"
    }
   ],
   "source": [
    "trainer.train()"
   ]
  },
  {
   "cell_type": "markdown",
   "id": "673d1cfa-c3ab-4c13-bd9b-5e5cc4962385",
   "metadata": {},
   "source": [
    "For the following configuration, we use 13GB of VRAM\n",
    "- sft_config.per_device_train_batch_size=4\n",
    "- sft_config.per_device_eval_batch_size=3"
   ]
  },
  {
   "cell_type": "code",
   "execution_count": 12,
   "id": "cb0fbbac-cf5c-4a8e-b5c9-06ea5b7c0ed1",
   "metadata": {},
   "outputs": [],
   "source": [
    "model = AutoModelForCausalLM.from_pretrained(\"facebook/opt-350m\")\n",
    "tokenizer = AutoTokenizer.from_pretrained(\"facebook/opt-350m\",  clean_up_tokenization_spaces=True)\n",
    "tokenizer.clean_up_tokenization_spaces = True\n",
    "\n",
    "sft_config = SFTConfig(output_dir=\"/tmp\")"
   ]
  },
  {
   "cell_type": "code",
   "execution_count": 9,
   "id": "7c0d38ab-1e40-4639-9abb-3bab6237ee36",
   "metadata": {},
   "outputs": [],
   "source": [
    "# we don't have to specify a value for report_to -> will cause error if you provide \"none\"\n",
    "sft_config.output_dir=\"/home/ubuntu/dailyResearch/trainers/output\"\n",
    "sft_config.push_to_hub=False\n",
    "sft_config.per_device_train_batch_size=6\n",
    "sft_config.per_device_eval_batch_size=6\n",
    "sft_config.eval_strategy='steps'\n",
    "sft_config.eval_steps=200\n",
    "sft_config.save_strategy='epoch'\n",
    "sft_config.num_train_epochs=1\n",
    "sft_config.dataset_text_field=\"text\"\n",
    "sft_config.max_seq_length=512"
   ]
  },
  {
   "cell_type": "code",
   "execution_count": 10,
   "id": "387ca5da-de49-4a30-b6f0-2fb7a1268976",
   "metadata": {},
   "outputs": [
    {
     "data": {
      "application/vnd.jupyter.widget-view+json": {
       "model_id": "efc34c67f5df436fa2800ca6ecffd797",
       "version_major": 2,
       "version_minor": 0
      },
      "text/plain": [
       "Map:   0%|          | 0/4500 [00:00<?, ? examples/s]"
      ]
     },
     "metadata": {},
     "output_type": "display_data"
    },
    {
     "data": {
      "application/vnd.jupyter.widget-view+json": {
       "model_id": "7198e2d0dab847b39e923059f08915e8",
       "version_major": 2,
       "version_minor": 0
      },
      "text/plain": [
       "Map:   0%|          | 0/500 [00:00<?, ? examples/s]"
      ]
     },
     "metadata": {},
     "output_type": "display_data"
    }
   ],
   "source": [
    "trainer = SFTTrainer(\n",
    "    model,\n",
    "    tokenizer=tokenizer,\n",
    "    train_dataset=dataset['train'],\n",
    "    eval_dataset=dataset['test'],\n",
    "    args=sft_config,\n",
    ")"
   ]
  },
  {
   "cell_type": "code",
   "execution_count": 11,
   "id": "eb60f7d6-ea5c-4c46-9cb3-5e3b018f996c",
   "metadata": {},
   "outputs": [
    {
     "data": {
      "text/html": [
       "\n",
       "    <div>\n",
       "      \n",
       "      <progress value='750' max='750' style='width:300px; height:20px; vertical-align: middle;'></progress>\n",
       "      [750/750 08:06, Epoch 1/1]\n",
       "    </div>\n",
       "    <table border=\"1\" class=\"dataframe\">\n",
       "  <thead>\n",
       " <tr style=\"text-align: left;\">\n",
       "      <th>Step</th>\n",
       "      <th>Training Loss</th>\n",
       "      <th>Validation Loss</th>\n",
       "    </tr>\n",
       "  </thead>\n",
       "  <tbody>\n",
       "    <tr>\n",
       "      <td>200</td>\n",
       "      <td>No log</td>\n",
       "      <td>3.499239</td>\n",
       "    </tr>\n",
       "    <tr>\n",
       "      <td>400</td>\n",
       "      <td>No log</td>\n",
       "      <td>3.458160</td>\n",
       "    </tr>\n",
       "    <tr>\n",
       "      <td>600</td>\n",
       "      <td>3.511800</td>\n",
       "      <td>3.413438</td>\n",
       "    </tr>\n",
       "  </tbody>\n",
       "</table><p>"
      ],
      "text/plain": [
       "<IPython.core.display.HTML object>"
      ]
     },
     "metadata": {},
     "output_type": "display_data"
    },
    {
     "data": {
      "text/plain": [
       "TrainOutput(global_step=750, training_loss=3.4898204752604167, metrics={'train_runtime': 487.9496, 'train_samples_per_second': 9.222, 'train_steps_per_second': 1.537, 'total_flos': 3735532832882688.0, 'train_loss': 3.4898204752604167, 'epoch': 1.0})"
      ]
     },
     "execution_count": 11,
     "metadata": {},
     "output_type": "execute_result"
    }
   ],
   "source": [
    "trainer.train()"
   ]
  },
  {
   "cell_type": "markdown",
   "id": "a07dc7fe-4fd9-4bbf-80ad-e4e78bc763c8",
   "metadata": {},
   "source": [
    "For the following configuration, we use 15.7GB of VRAM\n",
    "- sft_config.per_device_train_batch_size=6\n",
    "- sft_config.per_device_eval_batch_size=6"
   ]
  },
  {
   "cell_type": "code",
   "execution_count": 9,
   "id": "42d3d63d-0096-4480-b52e-2de1c0379675",
   "metadata": {},
   "outputs": [],
   "source": [
    "# we don't have to specify a value for report_to -> will cause error if you provide \"none\"\n",
    "sft_config.output_dir=\"/home/ubuntu/dailyResearch/trainers/output\"\n",
    "sft_config.push_to_hub=False\n",
    "sft_config.per_device_train_batch_size=8\n",
    "sft_config.per_device_eval_batch_size=8\n",
    "sft_config.eval_strategy='steps'\n",
    "sft_config.eval_steps=200\n",
    "sft_config.save_strategy='epoch'\n",
    "sft_config.num_train_epochs=1\n",
    "sft_config.dataset_text_field=\"text\"\n",
    "sft_config.max_seq_length=512"
   ]
  },
  {
   "cell_type": "code",
   "execution_count": 10,
   "id": "9e4cf089-3202-4234-81d1-0f67665a546e",
   "metadata": {},
   "outputs": [
    {
     "data": {
      "application/vnd.jupyter.widget-view+json": {
       "model_id": "80421a9bbdfb426b8c5f4eb8ff20bd89",
       "version_major": 2,
       "version_minor": 0
      },
      "text/plain": [
       "Map:   0%|          | 0/4500 [00:00<?, ? examples/s]"
      ]
     },
     "metadata": {},
     "output_type": "display_data"
    },
    {
     "data": {
      "application/vnd.jupyter.widget-view+json": {
       "model_id": "9bad015343e745daa0f02cab4df466dd",
       "version_major": 2,
       "version_minor": 0
      },
      "text/plain": [
       "Map:   0%|          | 0/500 [00:00<?, ? examples/s]"
      ]
     },
     "metadata": {},
     "output_type": "display_data"
    }
   ],
   "source": [
    "trainer = SFTTrainer(\n",
    "    model,\n",
    "    tokenizer=tokenizer,\n",
    "    train_dataset=dataset['train'],\n",
    "    eval_dataset=dataset['test'],\n",
    "    args=sft_config,\n",
    ")"
   ]
  },
  {
   "cell_type": "code",
   "execution_count": 11,
   "id": "52ebb62e-e6a9-4a62-80ab-6debb2866863",
   "metadata": {},
   "outputs": [
    {
     "data": {
      "text/html": [
       "\n",
       "    <div>\n",
       "      \n",
       "      <progress value='563' max='563' style='width:300px; height:20px; vertical-align: middle;'></progress>\n",
       "      [563/563 07:51, Epoch 1/1]\n",
       "    </div>\n",
       "    <table border=\"1\" class=\"dataframe\">\n",
       "  <thead>\n",
       " <tr style=\"text-align: left;\">\n",
       "      <th>Step</th>\n",
       "      <th>Training Loss</th>\n",
       "      <th>Validation Loss</th>\n",
       "    </tr>\n",
       "  </thead>\n",
       "  <tbody>\n",
       "    <tr>\n",
       "      <td>200</td>\n",
       "      <td>No log</td>\n",
       "      <td>3.442333</td>\n",
       "    </tr>\n",
       "    <tr>\n",
       "      <td>400</td>\n",
       "      <td>No log</td>\n",
       "      <td>3.395725</td>\n",
       "    </tr>\n",
       "  </tbody>\n",
       "</table><p>"
      ],
      "text/plain": [
       "<IPython.core.display.HTML object>"
      ]
     },
     "metadata": {},
     "output_type": "display_data"
    },
    {
     "data": {
      "text/plain": [
       "TrainOutput(global_step=563, training_loss=3.4840845138522702, metrics={'train_runtime': 473.1567, 'train_samples_per_second': 9.511, 'train_steps_per_second': 1.19, 'total_flos': 3907172762124288.0, 'train_loss': 3.4840845138522702, 'epoch': 1.0})"
      ]
     },
     "execution_count": 11,
     "metadata": {},
     "output_type": "execute_result"
    }
   ],
   "source": [
    "trainer.train()"
   ]
  },
  {
   "cell_type": "markdown",
   "id": "4be4dcba-4f70-4283-947e-ce96d3bce053",
   "metadata": {},
   "source": [
    "For the following configuration, we use 19.01GB of VRAM\n",
    "- sft_config.per_device_train_batch_size=8\n",
    "- sft_config.per_device_eval_batch_size=8\n",
    "\n",
    "\n",
    "### Training for Completion Tasks\n",
    "\n",
    "We would want to look at a very important construct that helps in  properly formatting, padding, and aligning data specifically for completion-based language modeling tasks, making sure that model can learn effectively from the data provided. This is called `DataCollatorForCompletionOnlyLM`\n",
    "- Completion Tasks: This data collator is designed specifically for scenarios where the model is trained to generate or complete text sequences. For example, it’s used when you want the model to predict the next part of a text given a prompt.\n",
    "\n",
    "- Padding and Formatting: In training models, input sequences are often padded to ensure uniform batch sizes. DataCollatorForCompletionOnlyLM handles the padding and formatting of these sequences in a way that’s appropriate for completion tasks. This means it ensures that the padding doesn’t interfere with the model’s ability to learn from the actual content.\n",
    "\n",
    "- Special Handling of Labels: For language modeling tasks, the labels (i.e., the ground truth sequences the model is supposed to predict) are often the same as the inputs but shifted. This collator can handle such setups by ensuring the labels are correctly aligned with the inputs.\n",
    "\n",
    "\n",
    "#### Dataset for Completion Task"
   ]
  },
  {
   "cell_type": "code",
   "execution_count": 1,
   "id": "5c22ca02-234c-4811-a555-fec932ee8c1d",
   "metadata": {},
   "outputs": [],
   "source": [
    "from datasets import load_dataset\n",
    "\n",
    "dataset = load_dataset(\"lucasmccabe-lmi/CodeAlpaca-20k\", split=\"train\")\n",
    "dataset = dataset.train_test_split(test_size=0.3)['test'].train_test_split(test_size=0.2)"
   ]
  },
  {
   "cell_type": "code",
   "execution_count": 2,
   "id": "6a04e3a8-b4aa-48a4-9a5e-bd24d908817f",
   "metadata": {},
   "outputs": [
    {
     "data": {
      "text/plain": [
       "{'instruction': 'Design and implement a function that takes two lists of integers as parameters and returns the minimum difference between two elements of the two lists. Write corresponding code in Python.',\n",
       " 'input': 'list1 = [2, 4, 7, 13] \\nlist2 = [3, 8, 9, 14]',\n",
       " 'output': \"def min_difference(list1, list2):\\n    # Initialize the minimum difference to a large number\\n    min_diff = float('inf')\\n\\n    for a in list1:\\n        for b in list2:\\n            # Update min_diff only if the difference \\n            # between a and b is smaller than min_diff \\n            min_diff = min(min_diff, abs(a - b))\\n    \\n    return min_diff\"}"
      ]
     },
     "execution_count": 2,
     "metadata": {},
     "output_type": "execute_result"
    }
   ],
   "source": [
    "dataset['train'][0]"
   ]
  },
  {
   "cell_type": "markdown",
   "id": "73c14b19-7d90-40d9-aaa2-f1af1bc94a4f",
   "metadata": {},
   "source": [
    "#### Import the model and tokenizer"
   ]
  },
  {
   "cell_type": "code",
   "execution_count": 3,
   "id": "bb5551a7-0046-4d7b-b799-514cf8a834da",
   "metadata": {},
   "outputs": [],
   "source": [
    "from transformers import (\n",
    "    AutoModelForCausalLM,\n",
    "    AutoTokenizer\n",
    ")\n",
    "\n",
    "model = AutoModelForCausalLM.from_pretrained(\"facebook/opt-350m\")\n",
    "tokenizer = AutoTokenizer.from_pretrained(\"facebook/opt-350m\", clean_up_tokenization_spaces=True)\n",
    "tokenizer.clean_up_tokenization_spaces = True"
   ]
  },
  {
   "cell_type": "markdown",
   "id": "e9ba970a-718e-4fcb-a46d-32e0642816b2",
   "metadata": {},
   "source": [
    "#### Create configuration"
   ]
  },
  {
   "cell_type": "code",
   "execution_count": 4,
   "id": "1259ec15-7d24-42c3-bbed-07fcfdc444f1",
   "metadata": {},
   "outputs": [],
   "source": [
    "from trl import SFTTrainer, DataCollatorForCompletionOnlyLM, SFTConfig\n",
    "\n",
    "def formatting_prompts_func(example):\n",
    "    output_texts = []\n",
    "    for i in range(len(example['instruction'])):\n",
    "        text = f\"### Question: {example['instruction'][i]}\\n ### Answer: {example['output'][i]}\"\n",
    "        output_texts.append(text)\n",
    "    return output_texts\n",
    "\n",
    "response_template = \" ### Answer:\"\n",
    "collator = DataCollatorForCompletionOnlyLM(response_template, tokenizer=tokenizer)"
   ]
  },
  {
   "cell_type": "code",
   "execution_count": 5,
   "id": "9a7c810f-a2f5-440c-a455-a1f7f00cc8fd",
   "metadata": {},
   "outputs": [],
   "source": [
    "sft_config = SFTConfig(output_dir=\"/tmp\")\n",
    "\n",
    "sft_config.output_dir=\"/home/ubuntu/dailyResearch/trainers/output\"\n",
    "sft_config.push_to_hub=False\n",
    "sft_config.per_device_train_batch_size=2\n",
    "sft_config.per_device_eval_batch_size=2\n",
    "sft_config.eval_strategy='steps'\n",
    "sft_config.eval_steps=200\n",
    "sft_config.save_strategy='steps'\n",
    "sft_config.save_steps=200\n",
    "sft_config.num_train_epochs=1\n",
    "sft_config.max_seq_length= 1024"
   ]
  },
  {
   "cell_type": "code",
   "execution_count": 6,
   "id": "8b9cf070-1f55-41f5-8b06-f970f40e5ec5",
   "metadata": {},
   "outputs": [
    {
     "data": {
      "application/vnd.jupyter.widget-view+json": {
       "model_id": "9b469bb2f0284d52ba97e31108994159",
       "version_major": 2,
       "version_minor": 0
      },
      "text/plain": [
       "Map:   0%|          | 0/4805 [00:00<?, ? examples/s]"
      ]
     },
     "metadata": {},
     "output_type": "display_data"
    },
    {
     "data": {
      "application/vnd.jupyter.widget-view+json": {
       "model_id": "0991ab0a61aa42809f58711303175281",
       "version_major": 2,
       "version_minor": 0
      },
      "text/plain": [
       "Map:   0%|          | 0/1202 [00:00<?, ? examples/s]"
      ]
     },
     "metadata": {},
     "output_type": "display_data"
    }
   ],
   "source": [
    "trainer = SFTTrainer(\n",
    "    model,\n",
    "    tokenizer=tokenizer,\n",
    "    train_dataset=dataset['train'],\n",
    "    eval_dataset=dataset['test'],\n",
    "    formatting_func=formatting_prompts_func,\n",
    "    data_collator=collator,\n",
    "    args=sft_config,\n",
    ")"
   ]
  },
  {
   "cell_type": "code",
   "execution_count": 7,
   "id": "8759a34a-1a1a-4b19-86ad-5b858c7aa2ec",
   "metadata": {},
   "outputs": [
    {
     "data": {
      "text/html": [
       "\n",
       "    <div>\n",
       "      \n",
       "      <progress value='2403' max='2403' style='width:300px; height:20px; vertical-align: middle;'></progress>\n",
       "      [2403/2403 10:43, Epoch 1/1]\n",
       "    </div>\n",
       "    <table border=\"1\" class=\"dataframe\">\n",
       "  <thead>\n",
       " <tr style=\"text-align: left;\">\n",
       "      <th>Step</th>\n",
       "      <th>Training Loss</th>\n",
       "      <th>Validation Loss</th>\n",
       "    </tr>\n",
       "  </thead>\n",
       "  <tbody>\n",
       "    <tr>\n",
       "      <td>200</td>\n",
       "      <td>No log</td>\n",
       "      <td>2.040772</td>\n",
       "    </tr>\n",
       "    <tr>\n",
       "      <td>400</td>\n",
       "      <td>No log</td>\n",
       "      <td>1.867631</td>\n",
       "    </tr>\n",
       "    <tr>\n",
       "      <td>600</td>\n",
       "      <td>2.204000</td>\n",
       "      <td>1.809298</td>\n",
       "    </tr>\n",
       "    <tr>\n",
       "      <td>800</td>\n",
       "      <td>2.204000</td>\n",
       "      <td>1.706257</td>\n",
       "    </tr>\n",
       "    <tr>\n",
       "      <td>1000</td>\n",
       "      <td>1.770300</td>\n",
       "      <td>1.629065</td>\n",
       "    </tr>\n",
       "    <tr>\n",
       "      <td>1200</td>\n",
       "      <td>1.770300</td>\n",
       "      <td>1.563001</td>\n",
       "    </tr>\n",
       "    <tr>\n",
       "      <td>1400</td>\n",
       "      <td>1.770300</td>\n",
       "      <td>1.488702</td>\n",
       "    </tr>\n",
       "    <tr>\n",
       "      <td>1600</td>\n",
       "      <td>1.637200</td>\n",
       "      <td>1.428524</td>\n",
       "    </tr>\n",
       "    <tr>\n",
       "      <td>1800</td>\n",
       "      <td>1.637200</td>\n",
       "      <td>1.388550</td>\n",
       "    </tr>\n",
       "    <tr>\n",
       "      <td>2000</td>\n",
       "      <td>1.469000</td>\n",
       "      <td>1.344200</td>\n",
       "    </tr>\n",
       "    <tr>\n",
       "      <td>2200</td>\n",
       "      <td>1.469000</td>\n",
       "      <td>1.314429</td>\n",
       "    </tr>\n",
       "    <tr>\n",
       "      <td>2400</td>\n",
       "      <td>1.469000</td>\n",
       "      <td>1.294468</td>\n",
       "    </tr>\n",
       "  </tbody>\n",
       "</table><p>"
      ],
      "text/plain": [
       "<IPython.core.display.HTML object>"
      ]
     },
     "metadata": {},
     "output_type": "display_data"
    },
    {
     "data": {
      "text/plain": [
       "TrainOutput(global_step=2403, training_loss=1.7124031819356664, metrics={'train_runtime': 644.2829, 'train_samples_per_second': 7.458, 'train_steps_per_second': 3.73, 'total_flos': 1306487466491904.0, 'train_loss': 1.7124031819356664, 'epoch': 1.0})"
      ]
     },
     "execution_count": 7,
     "metadata": {},
     "output_type": "execute_result"
    }
   ],
   "source": [
    "trainer.train()"
   ]
  },
  {
   "cell_type": "markdown",
   "id": "cec62588-0dad-49ff-93a1-06725ea3d06e",
   "metadata": {},
   "source": [
    "For the following configuration, we saw a VRAM usage eof 16.7 GB\n",
    "- sft_config.per_device_train_batch_size=2\n",
    "- sft_config.per_device_eval_batch_size=2"
   ]
  },
  {
   "cell_type": "code",
   "execution_count": 5,
   "id": "a1d2cbf8-9295-4621-b62d-566881320e51",
   "metadata": {},
   "outputs": [],
   "source": [
    "sft_config = SFTConfig(output_dir=\"/tmp\")\n",
    "\n",
    "sft_config.output_dir=\"/home/ubuntu/dailyResearch/trainers/output\"\n",
    "sft_config.push_to_hub=False\n",
    "sft_config.per_device_train_batch_size=3\n",
    "sft_config.per_device_eval_batch_size=3\n",
    "sft_config.eval_strategy='steps'\n",
    "sft_config.eval_steps=200\n",
    "sft_config.save_strategy='steps'\n",
    "sft_config.save_steps=200\n",
    "sft_config.num_train_epochs=1\n",
    "sft_config.max_seq_length= 1024"
   ]
  },
  {
   "cell_type": "code",
   "execution_count": 6,
   "id": "cfa1b5b3-8d3a-4c04-a8bf-9b31a4166bce",
   "metadata": {},
   "outputs": [
    {
     "data": {
      "application/vnd.jupyter.widget-view+json": {
       "model_id": "7e0834cdeaff4a438e25cf363d4dfdc0",
       "version_major": 2,
       "version_minor": 0
      },
      "text/plain": [
       "Map:   0%|          | 0/4805 [00:00<?, ? examples/s]"
      ]
     },
     "metadata": {},
     "output_type": "display_data"
    },
    {
     "data": {
      "application/vnd.jupyter.widget-view+json": {
       "model_id": "4e22f47f1f084d17a032d2cc2318c3d8",
       "version_major": 2,
       "version_minor": 0
      },
      "text/plain": [
       "Map:   0%|          | 0/1202 [00:00<?, ? examples/s]"
      ]
     },
     "metadata": {},
     "output_type": "display_data"
    }
   ],
   "source": [
    "trainer = SFTTrainer(\n",
    "    model,\n",
    "    tokenizer=tokenizer,\n",
    "    train_dataset=dataset['train'],\n",
    "    eval_dataset=dataset['test'],\n",
    "    formatting_func=formatting_prompts_func,\n",
    "    data_collator=collator,\n",
    "    args=sft_config,\n",
    ")"
   ]
  },
  {
   "cell_type": "code",
   "execution_count": 7,
   "id": "3e838e35-5e47-43ae-b795-a7e22c56ea1d",
   "metadata": {},
   "outputs": [
    {
     "data": {
      "text/html": [
       "\n",
       "    <div>\n",
       "      \n",
       "      <progress value='1602' max='1602' style='width:300px; height:20px; vertical-align: middle;'></progress>\n",
       "      [1602/1602 10:51, Epoch 1/1]\n",
       "    </div>\n",
       "    <table border=\"1\" class=\"dataframe\">\n",
       "  <thead>\n",
       " <tr style=\"text-align: left;\">\n",
       "      <th>Step</th>\n",
       "      <th>Training Loss</th>\n",
       "      <th>Validation Loss</th>\n",
       "    </tr>\n",
       "  </thead>\n",
       "  <tbody>\n",
       "    <tr>\n",
       "      <td>200</td>\n",
       "      <td>No log</td>\n",
       "      <td>1.887257</td>\n",
       "    </tr>\n",
       "    <tr>\n",
       "      <td>400</td>\n",
       "      <td>No log</td>\n",
       "      <td>1.734314</td>\n",
       "    </tr>\n",
       "    <tr>\n",
       "      <td>600</td>\n",
       "      <td>1.927300</td>\n",
       "      <td>1.622077</td>\n",
       "    </tr>\n",
       "    <tr>\n",
       "      <td>800</td>\n",
       "      <td>1.927300</td>\n",
       "      <td>1.506015</td>\n",
       "    </tr>\n",
       "    <tr>\n",
       "      <td>1000</td>\n",
       "      <td>1.641000</td>\n",
       "      <td>1.428209</td>\n",
       "    </tr>\n",
       "    <tr>\n",
       "      <td>1200</td>\n",
       "      <td>1.641000</td>\n",
       "      <td>1.366779</td>\n",
       "    </tr>\n",
       "    <tr>\n",
       "      <td>1400</td>\n",
       "      <td>1.641000</td>\n",
       "      <td>1.312488</td>\n",
       "    </tr>\n",
       "    <tr>\n",
       "      <td>1600</td>\n",
       "      <td>1.424700</td>\n",
       "      <td>1.279824</td>\n",
       "    </tr>\n",
       "  </tbody>\n",
       "</table><p>"
      ],
      "text/plain": [
       "<IPython.core.display.HTML object>"
      ]
     },
     "metadata": {},
     "output_type": "display_data"
    },
    {
     "data": {
      "text/plain": [
       "TrainOutput(global_step=1602, training_loss=1.648401543739881, metrics={'train_runtime': 653.0799, 'train_samples_per_second': 7.357, 'train_steps_per_second': 2.453, 'total_flos': 1533678303903744.0, 'train_loss': 1.648401543739881, 'epoch': 1.0})"
      ]
     },
     "execution_count": 7,
     "metadata": {},
     "output_type": "execute_result"
    }
   ],
   "source": [
    "trainer.train()"
   ]
  },
  {
   "cell_type": "markdown",
   "id": "1fe395e8-6e27-46ce-8a79-2783ffc5f22b",
   "metadata": {},
   "source": [
    "For the following configuration, we saw a VRAM usage eof 22.3 GB\n",
    "- sft_config.per_device_train_batch_size=3\n",
    "- sft_config.per_device_eval_batch_size=3"
   ]
  },
  {
   "cell_type": "markdown",
   "id": "f108f2a7-f339-45d2-a426-3c73c6d41bf5",
   "metadata": {},
   "source": [
    "#### Special type of Completion task\n",
    "\n",
    "Here, we have a conversational type of dataset. So, for these datasets we have `instruction template` abd `response template`.\n",
    "\n",
    "#### Dataset for this task"
   ]
  },
  {
   "cell_type": "code",
   "execution_count": 1,
   "id": "00dcf80f-e3b2-4042-ae1c-b7b152544af7",
   "metadata": {},
   "outputs": [
    {
     "name": "stderr",
     "output_type": "stream",
     "text": [
      "Repo card metadata block was not found. Setting CardData to empty.\n"
     ]
    }
   ],
   "source": [
    "from datasets import load_dataset\n",
    "\n",
    "dataset = load_dataset(\"timdettmers/openassistant-guanaco\", split=\"train\")\n",
    "dataset = dataset.train_test_split(test_size=0.3)['test'].train_test_split(test_size=0.2)"
   ]
  },
  {
   "cell_type": "code",
   "execution_count": 2,
   "id": "e7a667c3-d237-49d6-8d5d-bd57163c5118",
   "metadata": {},
   "outputs": [
    {
     "data": {
      "text/plain": [
       "{'text': '### Human: Explain the \"prosecutor\\'s fallacy\" like I am five.### Assistant: Imagine you have a bag of 100 marbles. You know that 90 of the marbles are blue and 10 are red.\\n\\nYou pick a marble out of the bag without looking, and it\\'s blue.\\n\\nThe \"prosecutor\\'s fallacy\" is when someone argues that the probability you picked a blue marble is 90% or very high. But that\\'s wrong.\\n\\nOnce you\\'ve picked a marble, either it was blue (which it was) or red. The probabilities reset to either 100% or 0%.\\n\\nThe correct way to think about it is that before picking, there was a 90% chance of picking blue. But after picking, there is a 100% chance that you picked the marble you picked.\\n\\nThe \"prosecutor\\'s fallacy\" gets its name because prosecutors sometimes commit this fallacy, arguing that the probability of someone\\'s guilt is very high based on evidence, without taking into account that either they are guilty or not guilty, 100% or 0%, once the crime has occurred.### Human: Why would a prosecutor want to perform a fallacy if they are interested in justice?### Assistant: Fallacies aren\\'t necessarily malicious. They are usually mental shortcuts that can lead to a wrong conclusion. The reason they are so common and dangerous is that they are often, but not always right and certainly not inherently right.\\nA prosecutor might unintentionally use it as a mental expedient to avoid using mental power on the problem. They are often overworked. If it\\'s being done maliciously the least bad reason would be that in the US at least almost all court cases lead to a conviction of some sort. Sometimes this involves gamesmanship on the part of the prosecutor and plea deals, but often the court system mainly takes up cases with overwhelming evidence (such as caught-in-the-act drug possession cases) and the prosecutor gets into the mindset that the accused is always guilty. Finally, the possibility exists that the prosecutor simply isn\\'t interested in justice.'}"
      ]
     },
     "execution_count": 2,
     "metadata": {},
     "output_type": "execute_result"
    }
   ],
   "source": [
    "dataset['train'][0]"
   ]
  },
  {
   "cell_type": "markdown",
   "id": "6bbfa269-eb8b-4035-a0c5-7f876297988b",
   "metadata": {},
   "source": [
    "#### Configure model and tokenizer"
   ]
  },
  {
   "cell_type": "code",
   "execution_count": 3,
   "id": "95e864ae-0e99-44cb-b01d-f281245ab8bd",
   "metadata": {},
   "outputs": [],
   "source": [
    "from transformers import (\n",
    "    AutoModelForCausalLM,\n",
    "    AutoTokenizer\n",
    ")\n",
    "\n",
    "model = AutoModelForCausalLM.from_pretrained(\"facebook/opt-350m\")\n",
    "tokenizer = AutoTokenizer.from_pretrained(\"facebook/opt-350m\", clean_up_tokenization_spaces=True)\n",
    "tokenizer.clean_up_tokenization_spaces = True"
   ]
  },
  {
   "cell_type": "markdown",
   "id": "8abf07ec-6e04-43c2-9a3e-baba1e8c60b5",
   "metadata": {},
   "source": [
    "#### Configure Trainer"
   ]
  },
  {
   "cell_type": "code",
   "execution_count": 4,
   "id": "85525bc6-3ec0-4234-9ff7-85dd5bcb7f0b",
   "metadata": {},
   "outputs": [],
   "source": [
    "from trl import SFTConfig, SFTTrainer, DataCollatorForCompletionOnlyLM\n",
    "\n",
    "instruction_template = \"### Human:\"\n",
    "response_template = \"### Assistant:\"\n",
    "collator = DataCollatorForCompletionOnlyLM(instruction_template=instruction_template, response_template=response_template, tokenizer=tokenizer, mlm=False)"
   ]
  },
  {
   "cell_type": "code",
   "execution_count": 5,
   "id": "f2a685b3-2d7a-4444-988e-0b34071f9e50",
   "metadata": {},
   "outputs": [],
   "source": [
    "sft_config = SFTConfig(output_dir=\"/tmp\")\n",
    "\n",
    "sft_config.output_dir=\"/home/ubuntu/dailyResearch/trainers/output\"\n",
    "sft_config.push_to_hub=False\n",
    "sft_config.per_device_train_batch_size=1\n",
    "sft_config.per_device_eval_batch_size=1\n",
    "sft_config.eval_strategy='steps'\n",
    "sft_config.eval_steps=200\n",
    "sft_config.save_strategy='steps'\n",
    "sft_config.save_steps=200\n",
    "sft_config.num_train_epochs=1\n",
    "sft_config.dataset_text_field='text'\n",
    "sft_config.max_seq_length=1024"
   ]
  },
  {
   "cell_type": "code",
   "execution_count": 6,
   "id": "f72fe359-3efd-49b0-a474-65906bbdb8d0",
   "metadata": {},
   "outputs": [
    {
     "data": {
      "application/vnd.jupyter.widget-view+json": {
       "model_id": "201079441df344cbaaa4a6e91b242629",
       "version_major": 2,
       "version_minor": 0
      },
      "text/plain": [
       "Map:   0%|          | 0/2363 [00:00<?, ? examples/s]"
      ]
     },
     "metadata": {},
     "output_type": "display_data"
    },
    {
     "data": {
      "application/vnd.jupyter.widget-view+json": {
       "model_id": "955efb688c3e4c7fb961f2ac608a7212",
       "version_major": 2,
       "version_minor": 0
      },
      "text/plain": [
       "Map:   0%|          | 0/591 [00:00<?, ? examples/s]"
      ]
     },
     "metadata": {},
     "output_type": "display_data"
    }
   ],
   "source": [
    "trainer = SFTTrainer(\n",
    "    model,\n",
    "    tokenizer=tokenizer,\n",
    "    args=sft_config,\n",
    "    train_dataset=dataset['train'],\n",
    "    eval_dataset=dataset['test'],\n",
    "    data_collator=collator,\n",
    ")"
   ]
  },
  {
   "cell_type": "code",
   "execution_count": null,
   "id": "83050723-dfe1-45bf-94aa-e571687bce71",
   "metadata": {},
   "outputs": [
    {
     "data": {
      "text/html": [
       "\n",
       "    <div>\n",
       "      \n",
       "      <progress value='478' max='2363' style='width:300px; height:20px; vertical-align: middle;'></progress>\n",
       "      [ 478/2363 03:17 < 13:03, 2.41 it/s, Epoch 0.20/1]\n",
       "    </div>\n",
       "    <table border=\"1\" class=\"dataframe\">\n",
       "  <thead>\n",
       " <tr style=\"text-align: left;\">\n",
       "      <th>Step</th>\n",
       "      <th>Training Loss</th>\n",
       "      <th>Validation Loss</th>\n",
       "    </tr>\n",
       "  </thead>\n",
       "  <tbody>\n",
       "    <tr>\n",
       "      <td>200</td>\n",
       "      <td>No log</td>\n",
       "      <td>nan</td>\n",
       "    </tr>\n",
       "    <tr>\n",
       "      <td>400</td>\n",
       "      <td>No log</td>\n",
       "      <td>nan</td>\n",
       "    </tr>\n",
       "  </tbody>\n",
       "</table><p>"
      ],
      "text/plain": [
       "<IPython.core.display.HTML object>"
      ]
     },
     "metadata": {},
     "output_type": "display_data"
    },
    {
     "name": "stderr",
     "output_type": "stream",
     "text": [
      "/home/ubuntu/dailyResearch/trainers/trainers/.venv/lib/python3.10/site-packages/trl/trainer/utils.py:214: UserWarning: Could not find response key `### Assistant:` in the following instance: </s>### Human: Escribe en lenguaje markdown una descripción de lo que va el proyecto:\n",
      "\n",
      "\n",
      "El objetivo de los Ciclistas será acabar cada Etapa con el menor tiempo posible y así tratar de ganar el campeonato de Ciclistas y que sus Equipos ganen el campeonato por Equipos.\n",
      "\n",
      "Descripción de las clases principales existentes en el proyecto «DP Ciclismo»\n",
      "\n",
      "Estas características van a influir de diversas formas en el rendimiento del Ciclista con su Bicicleta. Así, la velocidad que es capaz de alcanzar un Ciclista con un Bicicleta en una Etapa depende inversamente de este valor. Es decir, a mayor dificultad, menor será la velocidad que el Ciclista con su Bicicleta pueden alcanzar en esa Etapa. Este valor se deberá usar para el cómputo de la velocidad de cada Ciclista.\n",
      "\n",
      "Influye de forma directa en los minutos que necesita un Ciclista con su Bicicleta para finalizar la carrera. Es decir, a mayor distancia en una Etapa, mayor será el tiempo necesario que el Ciclista con su Bicicleta necesita para finalizar esa Etapa.\n",
      "\n",
      "Estas características van a influir de diversas formas en el rendimiento del Ciclista y la Bicicleta que usa en cada Etapa. Hay que tener en cuenta que la velocidad alcanzada por un Ciclista con una Bicicleta durante una Etapa dependerá directamente de la habilidad del Ciclista e inversamente de este campo peso y de la dificultad de la Etapa.\n",
      "\n",
      "Funcionalidad de la clase Bicicleta\n",
      "\n",
      "Estos dos tipos serán excluyentes entre sí. Es decir, tendremos objetos de tipo Bicicleta normal, objetos de tipo BicicletaRapida u objetos de tipo BicicletaPrototipo pero no de varios tipos a la vez.\n",
      "\n",
      "Funcionalidad de la clase BicicletaRapida\n",
      "\n",
      "Debe ser capaz de calcular su velocidad cuando es usada por un Ciclista en particular en una Etapa en concreto. Debe ser capaz de proporcionar el tiempo necesario para terminar la Etapa cuando es usada por un Ciclista en particular en una Etapa concreta.\n",
      "\n",
      "Funcionalidad de la clase Ciclista\n",
      "\n",
      "Debe ser capaz de recibir la Bicicleta que le asigne su Equipo y poder cambiarla entre carrera y carrera. Debe ser capaz de gestionar y proporcionar información sobre el resultado obtenido en cualquier Etapa. Debe ser capaz de devolver el número total de Etapas en las que ha participado, las que ha terminado, total de tiempo acumulado en las etapas que consiguió terminar, y, su caso, la Etapa en la que abandonó. Debe proporcionar la funcionalidad necesaria para que el Ciclista pueda usar una Bicicleta en una Etapa.\n",
      "\n",
      "Debe ser capaz de calcular la destreza de un Ciclista. Esta destreza dependerá de su habilidad y del tipo de Ciclista que sea. La explicación sobre los tipos de Ciclista y la fórmula concreta de cada tipo de Ciclista para calcular su destreza se explica a continuación.\n",
      "\n",
      "Estos tres tipos serán excluyentes entre sí y de los únicos que se pueden crear objetos de tipo Ciclista. Es decir, no habrá la posibilidad de crear objetos de tipo Ciclista que no sean de tipo CiclistaNovato, CiclistaExperimentado This instance will be ignored in loss calculation. Note, if this happens often, consider increasing the `max_seq_length`.\n",
      "  warnings.warn(\n",
      "/home/ubuntu/dailyResearch/trainers/trainers/.venv/lib/python3.10/site-packages/trl/trainer/utils.py:229: UserWarning: Could not find instruction key `### Human:` in the following instance: </s>### Human: Escribe en lenguaje markdown una descripción de lo que va el proyecto:\n",
      "\n",
      "\n",
      "El objetivo de los Ciclistas será acabar cada Etapa con el menor tiempo posible y así tratar de ganar el campeonato de Ciclistas y que sus Equipos ganen el campeonato por Equipos.\n",
      "\n",
      "Descripción de las clases principales existentes en el proyecto «DP Ciclismo»\n",
      "\n",
      "Estas características van a influir de diversas formas en el rendimiento del Ciclista con su Bicicleta. Así, la velocidad que es capaz de alcanzar un Ciclista con un Bicicleta en una Etapa depende inversamente de este valor. Es decir, a mayor dificultad, menor será la velocidad que el Ciclista con su Bicicleta pueden alcanzar en esa Etapa. Este valor se deberá usar para el cómputo de la velocidad de cada Ciclista.\n",
      "\n",
      "Influye de forma directa en los minutos que necesita un Ciclista con su Bicicleta para finalizar la carrera. Es decir, a mayor distancia en una Etapa, mayor será el tiempo necesario que el Ciclista con su Bicicleta necesita para finalizar esa Etapa.\n",
      "\n",
      "Estas características van a influir de diversas formas en el rendimiento del Ciclista y la Bicicleta que usa en cada Etapa. Hay que tener en cuenta que la velocidad alcanzada por un Ciclista con una Bicicleta durante una Etapa dependerá directamente de la habilidad del Ciclista e inversamente de este campo peso y de la dificultad de la Etapa.\n",
      "\n",
      "Funcionalidad de la clase Bicicleta\n",
      "\n",
      "Estos dos tipos serán excluyentes entre sí. Es decir, tendremos objetos de tipo Bicicleta normal, objetos de tipo BicicletaRapida u objetos de tipo BicicletaPrototipo pero no de varios tipos a la vez.\n",
      "\n",
      "Funcionalidad de la clase BicicletaRapida\n",
      "\n",
      "Debe ser capaz de calcular su velocidad cuando es usada por un Ciclista en particular en una Etapa en concreto. Debe ser capaz de proporcionar el tiempo necesario para terminar la Etapa cuando es usada por un Ciclista en particular en una Etapa concreta.\n",
      "\n",
      "Funcionalidad de la clase Ciclista\n",
      "\n",
      "Debe ser capaz de recibir la Bicicleta que le asigne su Equipo y poder cambiarla entre carrera y carrera. Debe ser capaz de gestionar y proporcionar información sobre el resultado obtenido en cualquier Etapa. Debe ser capaz de devolver el número total de Etapas en las que ha participado, las que ha terminado, total de tiempo acumulado en las etapas que consiguió terminar, y, su caso, la Etapa en la que abandonó. Debe proporcionar la funcionalidad necesaria para que el Ciclista pueda usar una Bicicleta en una Etapa.\n",
      "\n",
      "Debe ser capaz de calcular la destreza de un Ciclista. Esta destreza dependerá de su habilidad y del tipo de Ciclista que sea. La explicación sobre los tipos de Ciclista y la fórmula concreta de cada tipo de Ciclista para calcular su destreza se explica a continuación.\n",
      "\n",
      "Estos tres tipos serán excluyentes entre sí y de los únicos que se pueden crear objetos de tipo Ciclista. Es decir, no habrá la posibilidad de crear objetos de tipo Ciclista que no sean de tipo CiclistaNovato, CiclistaExperimentado This instance will be ignored in loss calculation. Note, if this happens often, consider increasing the `max_seq_length`.\n",
      "  warnings.warn(\n",
      "/home/ubuntu/dailyResearch/trainers/trainers/.venv/lib/python3.10/site-packages/trl/trainer/utils.py:214: UserWarning: Could not find response key `### Assistant:` in the following instance: </s>### Human: Напиши 5 коротких заголовків на основі цього тексту (про вимкнення електроенергії):\n",
      "\"СПОЖИВАННЯ: поступово зростає через посилення морозів. Більш стрімке зростання очікується завтра, із початком робочого тижня. \n",
      "ГЕНЕРАЦІЯ: Після ремонту в мережу повернулись два блоки на теплових електростанціях. Водночас один блок виведено в аварійний ремонт. Також протягом майже всієї доби відбувається імпорт електроенергії з інших країн. \n",
      "ДЕФІЦИТ: Дещо зменшився завдяки збільшенню виробництва, проте зберігається на суттєвому рівні. Наявний обсяг виробленої електроенергії все ще недостатній для покриття споживання у повному обсязі.\n",
      "Вироблена електроенергія розподіляється на забезпечення процесів, необхідних для роботи енергетичної та критичної інфраструктури (водоканали, котельні, лікарні), а також на покриття потреб промисловості та населення. В Київській та Одеській областях є мер This instance will be ignored in loss calculation. Note, if this happens often, consider increasing the `max_seq_length`.\n",
      "  warnings.warn(\n",
      "/home/ubuntu/dailyResearch/trainers/trainers/.venv/lib/python3.10/site-packages/trl/trainer/utils.py:229: UserWarning: Could not find instruction key `### Human:` in the following instance: </s>### Human: Напиши 5 коротких заголовків на основі цього тексту (про вимкнення електроенергії):\n",
      "\"СПОЖИВАННЯ: поступово зростає через посилення морозів. Більш стрімке зростання очікується завтра, із початком робочого тижня. \n",
      "ГЕНЕРАЦІЯ: Після ремонту в мережу повернулись два блоки на теплових електростанціях. Водночас один блок виведено в аварійний ремонт. Також протягом майже всієї доби відбувається імпорт електроенергії з інших країн. \n",
      "ДЕФІЦИТ: Дещо зменшився завдяки збільшенню виробництва, проте зберігається на суттєвому рівні. Наявний обсяг виробленої електроенергії все ще недостатній для покриття споживання у повному обсязі.\n",
      "Вироблена електроенергія розподіляється на забезпечення процесів, необхідних для роботи енергетичної та критичної інфраструктури (водоканали, котельні, лікарні), а також на покриття потреб промисловості та населення. В Київській та Одеській областях є мер This instance will be ignored in loss calculation. Note, if this happens often, consider increasing the `max_seq_length`.\n",
      "  warnings.warn(\n",
      "/home/ubuntu/dailyResearch/trainers/trainers/.venv/lib/python3.10/site-packages/trl/trainer/utils.py:214: UserWarning: Could not find response key `### Assistant:` in the following instance: </s>### Human: No entiendo este texto que proviene de una ley. ¿Me lo puedes explicar?:\n",
      "\n",
      "La esfera jurídica de derechos de los ciudadanos frente a la actuación de las Administraciones Públicas se encuentra protegida a través de una serie de instrumentos tanto de carácter reactivo, entre los que destaca el sistema de recursos administrativos o el control realizado por jueces y tribunales, como preventivo, a través del procedimiento administrativo, que es la expresión clara de que la Administración Pública actúa con sometimiento pleno a la Ley y al Derecho, como reza el artículo 103 de la Constitución.\n",
      "\n",
      "El informe elaborado por la Comisión para la Reforma de las Administraciones Públicas en junio de 2013 parte del convencimiento de que una economía competitiva exige unas Administraciones Públicas eficientes, transparentes y ágiles.\n",
      "\n",
      "En esta misma línea, el Programa nacional de reformas de España para 2014 recoge expresamente la aprobación de nuevas leyes administrativas como una de las medidas a impulsar para racionalizar la actuación de las instituciones y entidades del poder ejecutivo, mejorar la eficiencia en el uso de los recursos públicos y aumentar su productividad.\n",
      "\n",
      "Los defectos que tradicionalmente se han venido atribuyendo a las Administraciones españolas obedecen a varias causas, pero el ordenamiento vigente no es ajeno a ellas, puesto que el marco normativo en el que se ha desenvuelto la actuación pública ha propiciado la aparición de duplicidades e ineficiencias, con procedimientos administrativos demasiado complejos que, en ocasiones, han generado problemas de inseguridad jurídica. Para superar estas deficiencias es necesaria una reforma integral y estructural que permita ordenar y clarificar cómo se organizan y relacionan las Administraciones tanto externamente, con los ciudadanos y empresas, como internamente con el resto de Administraciones e instituciones del Estado.\n",
      "\n",
      "En coherencia con este contexto, se propone una reforma del ordenamiento jurídico público articulada en dos ejes fundamentales: las relaciones «ad extra» y «ad intra» de las Administraciones Públicas. Para ello se impulsan simultáneamente dos nuevas leyes que constituirán los pilares sobre los que se asentará el Derecho administrativo español: la Ley del Procedimiento Administrativo Común de las Administraciones Públicas, y la Ley de Régimen Jurídico del Sector Público.\n",
      "\n",
      "Esta Ley constituye el primero de estos dos ejes, al establecer una regulación completa y sistemática de las relaciones «ad extra» entre las Administraciones y los administrados, tanto en lo referente al ejercicio de la potestad de autotutela y en cuya virtud se dictan actos administrativos que inciden directamente en la esfera jurídica de los interesados, como en lo relativo al ejercicio de la potestad reglamentaria y la iniciativa legislativa. Queda así reunido en cuerpo legislativo único la regulación de las relaciones «ad extra» de las Administraciones con los ciudadanos como ley administrativa de referencia que se ha de complementar con todo lo previsto en la norm This instance will be ignored in loss calculation. Note, if this happens often, consider increasing the `max_seq_length`.\n",
      "  warnings.warn(\n",
      "/home/ubuntu/dailyResearch/trainers/trainers/.venv/lib/python3.10/site-packages/trl/trainer/utils.py:229: UserWarning: Could not find instruction key `### Human:` in the following instance: </s>### Human: No entiendo este texto que proviene de una ley. ¿Me lo puedes explicar?:\n",
      "\n",
      "La esfera jurídica de derechos de los ciudadanos frente a la actuación de las Administraciones Públicas se encuentra protegida a través de una serie de instrumentos tanto de carácter reactivo, entre los que destaca el sistema de recursos administrativos o el control realizado por jueces y tribunales, como preventivo, a través del procedimiento administrativo, que es la expresión clara de que la Administración Pública actúa con sometimiento pleno a la Ley y al Derecho, como reza el artículo 103 de la Constitución.\n",
      "\n",
      "El informe elaborado por la Comisión para la Reforma de las Administraciones Públicas en junio de 2013 parte del convencimiento de que una economía competitiva exige unas Administraciones Públicas eficientes, transparentes y ágiles.\n",
      "\n",
      "En esta misma línea, el Programa nacional de reformas de España para 2014 recoge expresamente la aprobación de nuevas leyes administrativas como una de las medidas a impulsar para racionalizar la actuación de las instituciones y entidades del poder ejecutivo, mejorar la eficiencia en el uso de los recursos públicos y aumentar su productividad.\n",
      "\n",
      "Los defectos que tradicionalmente se han venido atribuyendo a las Administraciones españolas obedecen a varias causas, pero el ordenamiento vigente no es ajeno a ellas, puesto que el marco normativo en el que se ha desenvuelto la actuación pública ha propiciado la aparición de duplicidades e ineficiencias, con procedimientos administrativos demasiado complejos que, en ocasiones, han generado problemas de inseguridad jurídica. Para superar estas deficiencias es necesaria una reforma integral y estructural que permita ordenar y clarificar cómo se organizan y relacionan las Administraciones tanto externamente, con los ciudadanos y empresas, como internamente con el resto de Administraciones e instituciones del Estado.\n",
      "\n",
      "En coherencia con este contexto, se propone una reforma del ordenamiento jurídico público articulada en dos ejes fundamentales: las relaciones «ad extra» y «ad intra» de las Administraciones Públicas. Para ello se impulsan simultáneamente dos nuevas leyes que constituirán los pilares sobre los que se asentará el Derecho administrativo español: la Ley del Procedimiento Administrativo Común de las Administraciones Públicas, y la Ley de Régimen Jurídico del Sector Público.\n",
      "\n",
      "Esta Ley constituye el primero de estos dos ejes, al establecer una regulación completa y sistemática de las relaciones «ad extra» entre las Administraciones y los administrados, tanto en lo referente al ejercicio de la potestad de autotutela y en cuya virtud se dictan actos administrativos que inciden directamente en la esfera jurídica de los interesados, como en lo relativo al ejercicio de la potestad reglamentaria y la iniciativa legislativa. Queda así reunido en cuerpo legislativo único la regulación de las relaciones «ad extra» de las Administraciones con los ciudadanos como ley administrativa de referencia que se ha de complementar con todo lo previsto en la norm This instance will be ignored in loss calculation. Note, if this happens often, consider increasing the `max_seq_length`.\n",
      "  warnings.warn(\n",
      "/home/ubuntu/dailyResearch/trainers/trainers/.venv/lib/python3.10/site-packages/trl/trainer/utils.py:214: UserWarning: Could not find response key `### Assistant:` in the following instance: </s>### Human: Escribe en lenguaje markdown una descripción de lo que va el proyecto:\n",
      "\n",
      "\n",
      "El objetivo de los Ciclistas será acabar cada Etapa con el menor tiempo posible y así tratar de ganar el campeonato de Ciclistas y que sus Equipos ganen el campeonato por Equipos.\n",
      "\n",
      "Descripción de las clases principales existentes en el proyecto «DP Ciclismo»\n",
      "\n",
      "Estas características van a influir de diversas formas en el rendimiento del Ciclista con su Bicicleta. Así, la velocidad que es capaz de alcanzar un Ciclista con un Bicicleta en una Etapa depende inversamente de este valor. Es decir, a mayor dificultad, menor será la velocidad que el Ciclista con su Bicicleta pueden alcanzar en esa Etapa. Este valor se deberá usar para el cómputo de la velocidad de cada Ciclista.\n",
      "\n",
      "Influye de forma directa en los minutos que necesita un Ciclista con su Bicicleta para finalizar la carrera. Es decir, a mayor distancia en una Etapa, mayor será el tiempo necesario que el Ciclista con su Bicicleta necesita para finalizar esa Etapa.\n",
      "\n",
      "Estas características van a influir de diversas formas en el rendimiento del Ciclista y la Bicicleta que usa en cada Etapa. Hay que tener en cuenta que la velocidad alcanzada por un Ciclista con una Bicicleta durante una Etapa dependerá directamente de la habilidad del Ciclista e inversamente de este campo peso y de la dificultad de la Etapa.\n",
      "\n",
      "Funcionalidad de la clase Bicicleta\n",
      "\n",
      "Estos dos tipos serán excluyentes entre sí. Es decir, tendremos objetos de tipo Bicicleta normal, objetos de tipo BicicletaRapida u objetos de tipo BicicletaPrototipo pero no de varios tipos a la vez.\n",
      "\n",
      "Funcionalidad de la clase BicicletaRapida\n",
      "\n",
      "Debe ser capaz de calcular su velocidad cuando es usada por un Ciclista en particular en una Etapa en concreto. Debe ser capaz de proporcionar el tiempo necesario para terminar la Etapa cuando es usada por un Ciclista en particular en una Etapa concreta.\n",
      "\n",
      "Funcionalidad de la clase Ciclista\n",
      "\n",
      "Debe ser capaz de recibir la Bicicleta que le asigne su Equipo y poder cambiarla entre carrera y carrera. Debe ser capaz de gestionar y proporcionar información sobre el resultado obtenido en cualquier Etapa. Debe ser capaz de devolver el número total de Etapas en las que ha participado, las que ha terminado, total de tiempo acumulado en las etapas que consiguió terminar, y, su caso, la Etapa en la que abandonó. Debe proporcionar la funcionalidad necesaria para que el Ciclista pueda usar una Bicicleta en una Etapa.\n",
      "\n",
      "Debe ser capaz de calcular la destreza de un Ciclista. Esta destreza dependerá de su habilidad y del tipo de Ciclista que sea. La explicación sobre los tipos de Ciclista y la fórmula concreta de cada tipo de Ciclista para calcular su destreza se explica a continuación.\n",
      "\n",
      "Estos tres tipos serán excluyentes entre sí y de los únicos que se pueden crear objetos de tipo Ciclista. Es decir, no habrá la posibilidad de crear objetos de tipo Ciclista que no sean de tipo CiclistaNovato, CiclistaExperimentado This instance will be ignored in loss calculation. Note, if this happens often, consider increasing the `max_seq_length`.\n",
      "  warnings.warn(\n",
      "/home/ubuntu/dailyResearch/trainers/trainers/.venv/lib/python3.10/site-packages/trl/trainer/utils.py:229: UserWarning: Could not find instruction key `### Human:` in the following instance: </s>### Human: Escribe en lenguaje markdown una descripción de lo que va el proyecto:\n",
      "\n",
      "\n",
      "El objetivo de los Ciclistas será acabar cada Etapa con el menor tiempo posible y así tratar de ganar el campeonato de Ciclistas y que sus Equipos ganen el campeonato por Equipos.\n",
      "\n",
      "Descripción de las clases principales existentes en el proyecto «DP Ciclismo»\n",
      "\n",
      "Estas características van a influir de diversas formas en el rendimiento del Ciclista con su Bicicleta. Así, la velocidad que es capaz de alcanzar un Ciclista con un Bicicleta en una Etapa depende inversamente de este valor. Es decir, a mayor dificultad, menor será la velocidad que el Ciclista con su Bicicleta pueden alcanzar en esa Etapa. Este valor se deberá usar para el cómputo de la velocidad de cada Ciclista.\n",
      "\n",
      "Influye de forma directa en los minutos que necesita un Ciclista con su Bicicleta para finalizar la carrera. Es decir, a mayor distancia en una Etapa, mayor será el tiempo necesario que el Ciclista con su Bicicleta necesita para finalizar esa Etapa.\n",
      "\n",
      "Estas características van a influir de diversas formas en el rendimiento del Ciclista y la Bicicleta que usa en cada Etapa. Hay que tener en cuenta que la velocidad alcanzada por un Ciclista con una Bicicleta durante una Etapa dependerá directamente de la habilidad del Ciclista e inversamente de este campo peso y de la dificultad de la Etapa.\n",
      "\n",
      "Funcionalidad de la clase Bicicleta\n",
      "\n",
      "Estos dos tipos serán excluyentes entre sí. Es decir, tendremos objetos de tipo Bicicleta normal, objetos de tipo BicicletaRapida u objetos de tipo BicicletaPrototipo pero no de varios tipos a la vez.\n",
      "\n",
      "Funcionalidad de la clase BicicletaRapida\n",
      "\n",
      "Debe ser capaz de calcular su velocidad cuando es usada por un Ciclista en particular en una Etapa en concreto. Debe ser capaz de proporcionar el tiempo necesario para terminar la Etapa cuando es usada por un Ciclista en particular en una Etapa concreta.\n",
      "\n",
      "Funcionalidad de la clase Ciclista\n",
      "\n",
      "Debe ser capaz de recibir la Bicicleta que le asigne su Equipo y poder cambiarla entre carrera y carrera. Debe ser capaz de gestionar y proporcionar información sobre el resultado obtenido en cualquier Etapa. Debe ser capaz de devolver el número total de Etapas en las que ha participado, las que ha terminado, total de tiempo acumulado en las etapas que consiguió terminar, y, su caso, la Etapa en la que abandonó. Debe proporcionar la funcionalidad necesaria para que el Ciclista pueda usar una Bicicleta en una Etapa.\n",
      "\n",
      "Debe ser capaz de calcular la destreza de un Ciclista. Esta destreza dependerá de su habilidad y del tipo de Ciclista que sea. La explicación sobre los tipos de Ciclista y la fórmula concreta de cada tipo de Ciclista para calcular su destreza se explica a continuación.\n",
      "\n",
      "Estos tres tipos serán excluyentes entre sí y de los únicos que se pueden crear objetos de tipo Ciclista. Es decir, no habrá la posibilidad de crear objetos de tipo Ciclista que no sean de tipo CiclistaNovato, CiclistaExperimentado This instance will be ignored in loss calculation. Note, if this happens often, consider increasing the `max_seq_length`.\n",
      "  warnings.warn(\n",
      "/home/ubuntu/dailyResearch/trainers/trainers/.venv/lib/python3.10/site-packages/trl/trainer/utils.py:214: UserWarning: Could not find response key `### Assistant:` in the following instance: </s>### Human: Напиши 5 коротких заголовків на основі цього тексту (про вимкнення електроенергії):\n",
      "\"СПОЖИВАННЯ: поступово зростає через посилення морозів. Більш стрімке зростання очікується завтра, із початком робочого тижня. \n",
      "ГЕНЕРАЦІЯ: Після ремонту в мережу повернулись два блоки на теплових електростанціях. Водночас один блок виведено в аварійний ремонт. Також протягом майже всієї доби відбувається імпорт електроенергії з інших країн. \n",
      "ДЕФІЦИТ: Дещо зменшився завдяки збільшенню виробництва, проте зберігається на суттєвому рівні. Наявний обсяг виробленої електроенергії все ще недостатній для покриття споживання у повному обсязі.\n",
      "Вироблена електроенергія розподіляється на забезпечення процесів, необхідних для роботи енергетичної та критичної інфраструктури (водоканали, котельні, лікарні), а також на покриття потреб промисловості та населення. В Київській та Одеській областях є мер This instance will be ignored in loss calculation. Note, if this happens often, consider increasing the `max_seq_length`.\n",
      "  warnings.warn(\n",
      "/home/ubuntu/dailyResearch/trainers/trainers/.venv/lib/python3.10/site-packages/trl/trainer/utils.py:229: UserWarning: Could not find instruction key `### Human:` in the following instance: </s>### Human: Напиши 5 коротких заголовків на основі цього тексту (про вимкнення електроенергії):\n",
      "\"СПОЖИВАННЯ: поступово зростає через посилення морозів. Більш стрімке зростання очікується завтра, із початком робочого тижня. \n",
      "ГЕНЕРАЦІЯ: Після ремонту в мережу повернулись два блоки на теплових електростанціях. Водночас один блок виведено в аварійний ремонт. Також протягом майже всієї доби відбувається імпорт електроенергії з інших країн. \n",
      "ДЕФІЦИТ: Дещо зменшився завдяки збільшенню виробництва, проте зберігається на суттєвому рівні. Наявний обсяг виробленої електроенергії все ще недостатній для покриття споживання у повному обсязі.\n",
      "Вироблена електроенергія розподіляється на забезпечення процесів, необхідних для роботи енергетичної та критичної інфраструктури (водоканали, котельні, лікарні), а також на покриття потреб промисловості та населення. В Київській та Одеській областях є мер This instance will be ignored in loss calculation. Note, if this happens often, consider increasing the `max_seq_length`.\n",
      "  warnings.warn(\n",
      "/home/ubuntu/dailyResearch/trainers/trainers/.venv/lib/python3.10/site-packages/trl/trainer/utils.py:214: UserWarning: Could not find response key `### Assistant:` in the following instance: </s>### Human: No entiendo este texto que proviene de una ley. ¿Me lo puedes explicar?:\n",
      "\n",
      "La esfera jurídica de derechos de los ciudadanos frente a la actuación de las Administraciones Públicas se encuentra protegida a través de una serie de instrumentos tanto de carácter reactivo, entre los que destaca el sistema de recursos administrativos o el control realizado por jueces y tribunales, como preventivo, a través del procedimiento administrativo, que es la expresión clara de que la Administración Pública actúa con sometimiento pleno a la Ley y al Derecho, como reza el artículo 103 de la Constitución.\n",
      "\n",
      "El informe elaborado por la Comisión para la Reforma de las Administraciones Públicas en junio de 2013 parte del convencimiento de que una economía competitiva exige unas Administraciones Públicas eficientes, transparentes y ágiles.\n",
      "\n",
      "En esta misma línea, el Programa nacional de reformas de España para 2014 recoge expresamente la aprobación de nuevas leyes administrativas como una de las medidas a impulsar para racionalizar la actuación de las instituciones y entidades del poder ejecutivo, mejorar la eficiencia en el uso de los recursos públicos y aumentar su productividad.\n",
      "\n",
      "Los defectos que tradicionalmente se han venido atribuyendo a las Administraciones españolas obedecen a varias causas, pero el ordenamiento vigente no es ajeno a ellas, puesto que el marco normativo en el que se ha desenvuelto la actuación pública ha propiciado la aparición de duplicidades e ineficiencias, con procedimientos administrativos demasiado complejos que, en ocasiones, han generado problemas de inseguridad jurídica. Para superar estas deficiencias es necesaria una reforma integral y estructural que permita ordenar y clarificar cómo se organizan y relacionan las Administraciones tanto externamente, con los ciudadanos y empresas, como internamente con el resto de Administraciones e instituciones del Estado.\n",
      "\n",
      "En coherencia con este contexto, se propone una reforma del ordenamiento jurídico público articulada en dos ejes fundamentales: las relaciones «ad extra» y «ad intra» de las Administraciones Públicas. Para ello se impulsan simultáneamente dos nuevas leyes que constituirán los pilares sobre los que se asentará el Derecho administrativo español: la Ley del Procedimiento Administrativo Común de las Administraciones Públicas, y la Ley de Régimen Jurídico del Sector Público.\n",
      "\n",
      "Esta Ley constituye el primero de estos dos ejes, al establecer una regulación completa y sistemática de las relaciones «ad extra» entre las Administraciones y los administrados, tanto en lo referente al ejercicio de la potestad de autotutela y en cuya virtud se dictan actos administrativos que inciden directamente en la esfera jurídica de los interesados, como en lo relativo al ejercicio de la potestad reglamentaria y la iniciativa legislativa. Queda así reunido en cuerpo legislativo único la regulación de las relaciones «ad extra» de las Administraciones con los ciudadanos como ley administrativa de referencia que se ha de complementar con todo lo previsto en la norm This instance will be ignored in loss calculation. Note, if this happens often, consider increasing the `max_seq_length`.\n",
      "  warnings.warn(\n",
      "/home/ubuntu/dailyResearch/trainers/trainers/.venv/lib/python3.10/site-packages/trl/trainer/utils.py:229: UserWarning: Could not find instruction key `### Human:` in the following instance: </s>### Human: No entiendo este texto que proviene de una ley. ¿Me lo puedes explicar?:\n",
      "\n",
      "La esfera jurídica de derechos de los ciudadanos frente a la actuación de las Administraciones Públicas se encuentra protegida a través de una serie de instrumentos tanto de carácter reactivo, entre los que destaca el sistema de recursos administrativos o el control realizado por jueces y tribunales, como preventivo, a través del procedimiento administrativo, que es la expresión clara de que la Administración Pública actúa con sometimiento pleno a la Ley y al Derecho, como reza el artículo 103 de la Constitución.\n",
      "\n",
      "El informe elaborado por la Comisión para la Reforma de las Administraciones Públicas en junio de 2013 parte del convencimiento de que una economía competitiva exige unas Administraciones Públicas eficientes, transparentes y ágiles.\n",
      "\n",
      "En esta misma línea, el Programa nacional de reformas de España para 2014 recoge expresamente la aprobación de nuevas leyes administrativas como una de las medidas a impulsar para racionalizar la actuación de las instituciones y entidades del poder ejecutivo, mejorar la eficiencia en el uso de los recursos públicos y aumentar su productividad.\n",
      "\n",
      "Los defectos que tradicionalmente se han venido atribuyendo a las Administraciones españolas obedecen a varias causas, pero el ordenamiento vigente no es ajeno a ellas, puesto que el marco normativo en el que se ha desenvuelto la actuación pública ha propiciado la aparición de duplicidades e ineficiencias, con procedimientos administrativos demasiado complejos que, en ocasiones, han generado problemas de inseguridad jurídica. Para superar estas deficiencias es necesaria una reforma integral y estructural que permita ordenar y clarificar cómo se organizan y relacionan las Administraciones tanto externamente, con los ciudadanos y empresas, como internamente con el resto de Administraciones e instituciones del Estado.\n",
      "\n",
      "En coherencia con este contexto, se propone una reforma del ordenamiento jurídico público articulada en dos ejes fundamentales: las relaciones «ad extra» y «ad intra» de las Administraciones Públicas. Para ello se impulsan simultáneamente dos nuevas leyes que constituirán los pilares sobre los que se asentará el Derecho administrativo español: la Ley del Procedimiento Administrativo Común de las Administraciones Públicas, y la Ley de Régimen Jurídico del Sector Público.\n",
      "\n",
      "Esta Ley constituye el primero de estos dos ejes, al establecer una regulación completa y sistemática de las relaciones «ad extra» entre las Administraciones y los administrados, tanto en lo referente al ejercicio de la potestad de autotutela y en cuya virtud se dictan actos administrativos que inciden directamente en la esfera jurídica de los interesados, como en lo relativo al ejercicio de la potestad reglamentaria y la iniciativa legislativa. Queda así reunido en cuerpo legislativo único la regulación de las relaciones «ad extra» de las Administraciones con los ciudadanos como ley administrativa de referencia que se ha de complementar con todo lo previsto en la norm This instance will be ignored in loss calculation. Note, if this happens often, consider increasing the `max_seq_length`.\n",
      "  warnings.warn(\n"
     ]
    }
   ],
   "source": [
    "trainer.train()"
   ]
  },
  {
   "cell_type": "code",
   "execution_count": null,
   "id": "750e5679-5e17-4206-a47f-87953ea227de",
   "metadata": {},
   "outputs": [],
   "source": []
  }
 ],
 "metadata": {
  "kernelspec": {
   "display_name": "Python 3 (ipykernel)",
   "language": "python",
   "name": "python3"
  },
  "language_info": {
   "codemirror_mode": {
    "name": "ipython",
    "version": 3
   },
   "file_extension": ".py",
   "mimetype": "text/x-python",
   "name": "python",
   "nbconvert_exporter": "python",
   "pygments_lexer": "ipython3",
   "version": "3.10.4"
  }
 },
 "nbformat": 4,
 "nbformat_minor": 5
}
