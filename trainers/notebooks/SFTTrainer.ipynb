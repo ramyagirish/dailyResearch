{
 "cells": [
  {
   "cell_type": "markdown",
   "id": "63627f93-8791-424c-94ef-e3d84a1c8ad9",
   "metadata": {},
   "source": [
    "### Objective\n",
    "\n",
    "In this notebook, we will look at `trl` package that stands for **transformer reinforcement learning**. RL is reward based training process and we will be looking at a very straight forward way of fine tu"
   ]
  },
  {
   "cell_type": "code",
   "execution_count": 1,
   "id": "3b066e84-67e4-46b3-ab59-70f231d1359b",
   "metadata": {},
   "outputs": [],
   "source": [
    "import trl"
   ]
  },
  {
   "cell_type": "code",
   "execution_count": 2,
   "id": "00b91eda-dce9-47f5-874c-b72fae07fdbd",
   "metadata": {},
   "outputs": [
    {
     "data": {
      "text/plain": [
       "'0.9.6'"
      ]
     },
     "execution_count": 2,
     "metadata": {},
     "output_type": "execute_result"
    }
   ],
   "source": [
    "trl.__version__"
   ]
  },
  {
   "cell_type": "markdown",
   "id": "56d14b91-47d8-49ed-82e4-2f4a184ed000",
   "metadata": {},
   "source": [
    "#### Dataset\n",
    "\n",
    "We will be using a very small subset of **IMDB** dataset for this experiment."
   ]
  },
  {
   "cell_type": "code",
   "execution_count": 3,
   "id": "e37c12aa-c2cf-4969-b90d-f3442deec3d4",
   "metadata": {},
   "outputs": [],
   "source": [
    "# importing the libraries for accessing dataset\n",
    "from datasets import load_dataset"
   ]
  },
  {
   "cell_type": "code",
   "execution_count": 4,
   "id": "237adafe-9762-49e3-95fe-1f588bf8eade",
   "metadata": {},
   "outputs": [],
   "source": [
    "dataset = load_dataset(\"imdb\", split=\"train\")\n",
    "dataset = dataset.train_test_split(test_size=0.2)['test'].train_test_split(test_size=0.1)"
   ]
  },
  {
   "cell_type": "code",
   "execution_count": 5,
   "id": "75438c9d-5334-4063-8d91-addd5e74f6da",
   "metadata": {},
   "outputs": [
    {
     "data": {
      "text/plain": [
       "{'train': (4500, 2), 'test': (500, 2)}"
      ]
     },
     "execution_count": 5,
     "metadata": {},
     "output_type": "execute_result"
    }
   ],
   "source": [
    "dataset.shape"
   ]
  },
  {
   "cell_type": "markdown",
   "id": "50ef2778-0760-4d0a-aac2-19becda738d5",
   "metadata": {},
   "source": [
    "#### Define Training Arguments"
   ]
  },
  {
   "cell_type": "code",
   "execution_count": 6,
   "id": "c9ad3466-4838-4f19-837b-faf00f8f9219",
   "metadata": {},
   "outputs": [],
   "source": [
    "# these specific batch sizes have been chosen based on a GPU with VRAM of 12 GB\n",
    "# unfortunately use of args like so has been deprecated \n",
    "\n",
    "from transformers import TrainingArguments\n",
    "\n",
    "args = TrainingArguments(\n",
    "    output_dir='/home/ubuntu/dailyResearch/trainers/output',\n",
    "    push_to_hub=False,\n",
    "    report_to=\"none\",\n",
    "    per_device_eval_batch_size=3,\n",
    "    per_device_train_batch_size=4,\n",
    "    eval_strategy='steps',\n",
    "    eval_steps=200,\n",
    "    save_strategy='epoch',\n",
    "    num_train_epochs=1\n",
    ")"
   ]
  },
  {
   "cell_type": "code",
   "execution_count": 7,
   "id": "019004e2-dd3e-4f24-a3b5-a8a4f55f7bf9",
   "metadata": {},
   "outputs": [
    {
     "data": {
      "text/plain": [
       "{'text': 'Råzone is an awful movie! It is so simple. It seems they tried to make a movie to show the reel life. Just like Zappa did many years ago. But unfortunately Denmark lacks good young actors. Leon are by many still the little girl in \"krummernes Jul\", and Laura is simply not good enough to play such an important role. several times in the movie she plays with out soul and this is destroying the movie!<br /><br />Even though i consider it a movie you ought to see. I do not agree that the youth are behaving like this, but i think it can show how it can end, if you are letting your child down. Also it is important to support danish movies and new companies like \"Film folket\"!<br /><br />all in all I think people should see Råzone. Not because it is a great film, but because it is a movies which is dealing with important themes. I also think it is important to point out that there are some violent scenes in it, and actually it is in these scenes, Laura is acting best. - like the ending where she is holding the gun!',\n",
       " 'label': 0}"
      ]
     },
     "execution_count": 7,
     "metadata": {},
     "output_type": "execute_result"
    }
   ],
   "source": [
    "# training dataset\n",
    "dataset['train'][0]"
   ]
  },
  {
   "cell_type": "markdown",
   "id": "d4778d1f-b645-468a-a940-e5ee7e660bcf",
   "metadata": {},
   "source": [
    "#### Create Trainer\n",
    "\n",
    "Here we will look at the first type of RL trainer that we call **SFTTrainer**. We have to remember that SFT trainers don't give a lot of support for customized workflows and also they are very stream-lined, although easy to work with they dont offer flexibility."
   ]
  },
  {
   "cell_type": "code",
   "execution_count": 8,
   "id": "adc800d5-c067-4e69-bc1c-404d41cc42b6",
   "metadata": {},
   "outputs": [],
   "source": [
    "# create the trainer instance\n",
    "from transformers import AutoModelForCausalLM, AutoTokenizer\n",
    "from trl import SFTTrainer, SFTConfig\n",
    "\n",
    "model = AutoModelForCausalLM.from_pretrained(\"facebook/opt-350m\")\n",
    "tokenizer = AutoTokenizer.from_pretrained(\"facebook/opt-350m\",  clean_up_tokenization_spaces=True)\n",
    "tokenizer.clean_up_tokenization_spaces = True\n",
    "\n",
    "sft_config = SFTConfig(output_dir=\"/tmp\")"
   ]
  },
  {
   "cell_type": "code",
   "execution_count": 9,
   "id": "4c581aa8-3bdb-429b-a2d7-4623f87bb303",
   "metadata": {},
   "outputs": [],
   "source": [
    "# we don't have to specify a value for report_to -> will cause error if you provide \"none\"\n",
    "sft_config.output_dir=\"/home/ubuntu/dailyResearch/trainers/output\"\n",
    "sft_config.push_to_hub=False\n",
    "sft_config.per_device_train_batch_size=4\n",
    "sft_config.per_device_eval_batch_size=3\n",
    "sft_config.eval_strategy='steps'\n",
    "sft_config.eval_steps=200\n",
    "sft_config.save_strategy='epoch'\n",
    "sft_config.num_train_epochs=1\n",
    "sft_config.dataset_text_field=\"text\"\n",
    "sft_config.max_seq_length=512"
   ]
  },
  {
   "cell_type": "code",
   "execution_count": 10,
   "id": "e5281d0b-cadf-4241-b826-26bba6060421",
   "metadata": {
    "scrolled": true
   },
   "outputs": [
    {
     "data": {
      "application/vnd.jupyter.widget-view+json": {
       "model_id": "c9165487aacd48c3bec2a1977f511a2f",
       "version_major": 2,
       "version_minor": 0
      },
      "text/plain": [
       "Map:   0%|          | 0/4500 [00:00<?, ? examples/s]"
      ]
     },
     "metadata": {},
     "output_type": "display_data"
    },
    {
     "data": {
      "application/vnd.jupyter.widget-view+json": {
       "model_id": "e209f7d004a74965be8968afb6a26eb5",
       "version_major": 2,
       "version_minor": 0
      },
      "text/plain": [
       "Map:   0%|          | 0/500 [00:00<?, ? examples/s]"
      ]
     },
     "metadata": {},
     "output_type": "display_data"
    }
   ],
   "source": [
    "trainer = SFTTrainer(\n",
    "    model,\n",
    "    tokenizer=tokenizer,\n",
    "    train_dataset=dataset['train'],\n",
    "    eval_dataset=dataset['test'],\n",
    "    args=sft_config,\n",
    ")"
   ]
  },
  {
   "cell_type": "code",
   "execution_count": null,
   "id": "85f4c7d6-b73e-4cc0-8253-4fd4807d2e8a",
   "metadata": {},
   "outputs": [
    {
     "data": {
      "text/html": [
       "\n",
       "    <div>\n",
       "      \n",
       "      <progress value='98' max='1125' style='width:300px; height:20px; vertical-align: middle;'></progress>\n",
       "      [  98/1125 17:13 < 3:04:11, 0.09 it/s, Epoch 0.09/1]\n",
       "    </div>\n",
       "    <table border=\"1\" class=\"dataframe\">\n",
       "  <thead>\n",
       " <tr style=\"text-align: left;\">\n",
       "      <th>Step</th>\n",
       "      <th>Training Loss</th>\n",
       "      <th>Validation Loss</th>\n",
       "    </tr>\n",
       "  </thead>\n",
       "  <tbody>\n",
       "  </tbody>\n",
       "</table><p>"
      ],
      "text/plain": [
       "<IPython.core.display.HTML object>"
      ]
     },
     "metadata": {},
     "output_type": "display_data"
    }
   ],
   "source": [
    "trainer.train()"
   ]
  },
  {
   "cell_type": "code",
   "execution_count": null,
   "id": "3b8e897a-3818-47ba-aa0b-9ed7a5dc88f9",
   "metadata": {},
   "outputs": [],
   "source": []
  }
 ],
 "metadata": {
  "kernelspec": {
   "display_name": "Python 3 (ipykernel)",
   "language": "python",
   "name": "python3"
  },
  "language_info": {
   "codemirror_mode": {
    "name": "ipython",
    "version": 3
   },
   "file_extension": ".py",
   "mimetype": "text/x-python",
   "name": "python",
   "nbconvert_exporter": "python",
   "pygments_lexer": "ipython3",
   "version": "3.10.12"
  }
 },
 "nbformat": 4,
 "nbformat_minor": 5
}
